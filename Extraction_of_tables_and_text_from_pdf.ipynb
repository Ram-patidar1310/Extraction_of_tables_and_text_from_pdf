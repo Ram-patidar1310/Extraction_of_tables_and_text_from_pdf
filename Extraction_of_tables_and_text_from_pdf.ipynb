{
  "nbformat": 4,
  "nbformat_minor": 0,
  "metadata": {
    "colab": {
      "provenance": []
    },
    "kernelspec": {
      "name": "python3",
      "display_name": "Python 3"
    },
    "language_info": {
      "name": "python"
    }
  },
  "cells": [
    {
      "cell_type": "code",
      "execution_count": 1,
      "metadata": {
        "colab": {
          "base_uri": "https://localhost:8080/"
        },
        "id": "YgRxbzi3rqkL",
        "outputId": "7c12ef7f-0138-4aad-a34b-79bbbca6e78b"
      },
      "outputs": [
        {
          "output_type": "stream",
          "name": "stdout",
          "text": [
            "Looking in indexes: https://pypi.org/simple, https://us-python.pkg.dev/colab-wheels/public/simple/\n",
            "Collecting tabula-py\n",
            "  Downloading tabula_py-2.6.0-py3-none-any.whl (12.0 MB)\n",
            "\u001b[K     |████████████████████████████████| 12.0 MB 10.1 MB/s \n",
            "\u001b[?25hRequirement already satisfied: pandas>=0.25.3 in /usr/local/lib/python3.8/dist-packages (from tabula-py) (1.3.5)\n",
            "Requirement already satisfied: numpy in /usr/local/lib/python3.8/dist-packages (from tabula-py) (1.21.6)\n",
            "Collecting distro\n",
            "  Downloading distro-1.8.0-py3-none-any.whl (20 kB)\n",
            "Requirement already satisfied: pytz>=2017.3 in /usr/local/lib/python3.8/dist-packages (from pandas>=0.25.3->tabula-py) (2022.6)\n",
            "Requirement already satisfied: python-dateutil>=2.7.3 in /usr/local/lib/python3.8/dist-packages (from pandas>=0.25.3->tabula-py) (2.8.2)\n",
            "Requirement already satisfied: six>=1.5 in /usr/local/lib/python3.8/dist-packages (from python-dateutil>=2.7.3->pandas>=0.25.3->tabula-py) (1.15.0)\n",
            "Installing collected packages: distro, tabula-py\n",
            "Successfully installed distro-1.8.0 tabula-py-2.6.0\n",
            "Looking in indexes: https://pypi.org/simple, https://us-python.pkg.dev/colab-wheels/public/simple/\n",
            "Collecting pymupdf\n",
            "  Downloading PyMuPDF-1.21.0-cp38-cp38-manylinux_2_17_x86_64.manylinux2014_x86_64.whl (14.0 MB)\n",
            "\u001b[K     |████████████████████████████████| 14.0 MB 113 kB/s \n",
            "\u001b[?25hInstalling collected packages: pymupdf\n",
            "Successfully installed pymupdf-1.21.0\n"
          ]
        }
      ],
      "source": [
        "!pip install tabula-py\n",
        "!pip install pymupdf"
      ]
    },
    {
      "cell_type": "code",
      "source": [
        "import tabula\n",
        "import fitz"
      ],
      "metadata": {
        "id": "kesQwv4BrtAl"
      },
      "execution_count": 2,
      "outputs": []
    },
    {
      "cell_type": "code",
      "source": [
        "file_path1 = \"/content/ast_sci_data_tables_sample.pdf\""
      ],
      "metadata": {
        "id": "4DmEnkzTr0sM"
      },
      "execution_count": 6,
      "outputs": []
    },
    {
      "cell_type": "code",
      "source": [
        "#To extract tables from pdf\n",
        "tables = tabula.read_pdf(file_path1,pages='all')"
      ],
      "metadata": {
        "id": "Ddxp0aIUr2la"
      },
      "execution_count": 7,
      "outputs": []
    },
    {
      "cell_type": "code",
      "source": [
        "tables"
      ],
      "metadata": {
        "colab": {
          "base_uri": "https://localhost:8080/"
        },
        "id": "t1f-coP7r2h4",
        "outputId": "d1c70030-c313-4d03-9202-06b4d64f7b4f"
      },
      "execution_count": 8,
      "outputs": [
        {
          "output_type": "execute_result",
          "data": {
            "text/plain": [
              "[   Number of Coils Number of Paperclips\n",
              " 0                5              3, 5, 4\n",
              " 1               10              7, 8, 6\n",
              " 2               15           11, 10, 12\n",
              " 3               20           15, 13, 14,\n",
              "     Speed (mph)           Driver                         Car     Engine  \\\n",
              " 0       407.447  Craig Breedlove           Spirit of America     GE J47   \n",
              " 1       413.199        Tom Green            Wingfoot Express     WE J46   \n",
              " 2       434.220       Art Arfons               Green Monster     GE J79   \n",
              " 3       468.719  Craig Breedlove           Spirit of America     GE J79   \n",
              " 4       526.277  Craig Breedlove           Spirit of America     GE J79   \n",
              " 5       536.712       Art Arfons               Green Monster     GE J79   \n",
              " 6       555.127  Craig Breedlove  Spirit of America, Sonic 1     GE J79   \n",
              " 7       576.553       Art Arfons               Green Monster     GE J79   \n",
              " 8       600.601  Craig Breedlove  Spirit of America, Sonic 1     GE J79   \n",
              " 9       622.407    Gary Gabelich                  Blue Flame     Rocket   \n",
              " 10      633.468    Richard Noble                    Thrust 2  RR RG 146   \n",
              " 11      763.035       Andy Green                  Thrust SSC    RR Spey   \n",
              " \n",
              "         Date  \n",
              " 0     8/5/63  \n",
              " 1    10/2/64  \n",
              " 2    10/5/64  \n",
              " 3   10/13/64  \n",
              " 4   10/15/65  \n",
              " 5   10/27/65  \n",
              " 6    11/2/65  \n",
              " 7    11/7/65  \n",
              " 8   11/15/65  \n",
              " 9   10/23/70  \n",
              " 10   10/4/83  \n",
              " 11  10/15/97  ,\n",
              "    Time (drops of water)  Distance (cm)\n",
              " 0                      1        10,11,9\n",
              " 1                      2     29, 31, 30\n",
              " 2                      3     59, 58, 61\n",
              " 3                      4   102, 100, 98\n",
              " 4                      5  122, 125, 127]"
            ]
          },
          "metadata": {},
          "execution_count": 8
        }
      ]
    },
    {
      "cell_type": "code",
      "source": [
        "file_path2 = '/content/Auerbach-Handout-Paragraph-Writing-Examples.pdf'"
      ],
      "metadata": {
        "id": "bJzJxbDas6ge"
      },
      "execution_count": 13,
      "outputs": []
    },
    {
      "cell_type": "code",
      "source": [
        "pdf = fitz.open(file_path2)"
      ],
      "metadata": {
        "id": "M4yklwC0r2eq"
      },
      "execution_count": 14,
      "outputs": []
    },
    {
      "cell_type": "code",
      "source": [
        "from sys import ps1\n",
        "def full_pdf(pdf_file):\n",
        "  \n",
        "  # start from 0 and go until last page\n",
        "  # get all the text as list\n",
        "\n",
        "  num_pages = pdf_file.page_count\n",
        "  pdf_content = []\n",
        "  for i in range(0, pdf_file.page_count):\n",
        "    raw_txt = pdf_file.load_page(i).get_text().replace(\"\\t\", \" \")\n",
        "    pdf_content.append(raw_txt)\n",
        "  return pdf_content"
      ],
      "metadata": {
        "id": "HAPsRuqor2bh"
      },
      "execution_count": 15,
      "outputs": []
    },
    {
      "cell_type": "code",
      "source": [
        "pdf_cont = full_pdf(pdf)"
      ],
      "metadata": {
        "id": "yJQzhDgNsRb0"
      },
      "execution_count": 16,
      "outputs": []
    },
    {
      "cell_type": "code",
      "source": [
        "for i in range(pdf.page_count):\n",
        "  print(pdf_cont[i])"
      ],
      "metadata": {
        "colab": {
          "base_uri": "https://localhost:8080/"
        },
        "id": "BiVxako2sW0w",
        "outputId": "8400f3fe-01ec-4ec0-a578-56b11f9f08ce"
      },
      "execution_count": 17,
      "outputs": [
        {
          "output_type": "stream",
          "name": "stdout",
          "text": [
            "How to Write a Perfect Paragraph \n",
            " \n",
            "I. Topic Sentence \n",
            " \n",
            "What is the topic sentence? The topic sentence is the first sentence in a paragraph. \n",
            " \n",
            "What does it do? It introduces the main idea of the paragraph. \n",
            " \n",
            "How do I write one? Summarize the main idea of your paragraph. Make clear what your \n",
            "paragraph will be about.  \n",
            " \n",
            "Example: Canada is one of the best countries in the world to live in. First, Canada has an \n",
            "excellent health care system. All Canadians have access to medical services at a reasonable \n",
            "price. Second, Canada has a high standard of education. Students are taught by well‐trained \n",
            "teachers and are encouraged to continue studying at university. Finally, Canada's cities are clean \n",
            "and efficiently managed. Canadian cities have many parks and lots of space for people to live. As \n",
            "a result, Canada is a desirable place to live.  \n",
            " \n",
            "II. Supporting Details \n",
            " \n",
            "What are supporting sentences? They come after the topic sentence, making up the body of a \n",
            "paragraph. \n",
            " \n",
            "What do they do? They give details to develop and support the main idea of the paragraph. \n",
            " \n",
            "How do I write them? You should give supporting facts, details, and examples.  \n",
            " \n",
            "Example: Canada is one of the best countries in the world to live in. First, Canada has an \n",
            "excellent health care system. All Canadians have access to medical services at a reasonable \n",
            "price. Second, Canada has a high standard of education. Students are taught by well‐trained \n",
            "teachers and are encouraged to continue studying at university. Finally, Canada's cities are clean \n",
            "and efficiently managed. Canadian cities have many parks and lots of space for people to live. As \n",
            "a result, Canada is a desirable place to live.  \n",
            " \n",
            "III. Closing Sentence \n",
            " \n",
            "What is the closing sentence? The closing sentence is the last sentence in a paragraph.  \n",
            " \n",
            "What does it do? It restates the main idea of your paragraph.  \n",
            " \n",
            "How do I write one? Restate the main idea of the paragraph using different words.  \n",
            " \n",
            "Example: Canada is one of the best countries in the world to live in. First, Canada has an \n",
            "excellent health care system. All Canadians have access to medical services at a reasonable \n",
            "price. Second, Canada has a high standard of education. Students are taught by well‐trained \n",
            "teachers and are encouraged to continue studying at university. Finally, Canada's cities are clean \n",
            "and efficiently managed. Canadian cities have many parks and lots of space for people to live. As \n",
            "a result, Canada is a desirable place to live. \n",
            " \n",
            "\n",
            "Example #2: Alexander the Great \n",
            " \n",
            "Start with a topic sentence that clearly identifies the main point(s) of the paragraph: \n",
            " \n",
            "Alexander the Great was a successful ruler because his actions created long lasting \n",
            "effects on cultures that continue to the present day. \n",
            " \n",
            "Example (Think of an example that supports your thesis statement): \n",
            "  \n",
            "One example of his legacy was the creation of a Hellenistic society. \n",
            " \n",
            "Explanation of Example (What does this specific example mean? Be specific. Expand your \n",
            "example by providing additional important details): \n",
            "  \n",
            "Hellenism was the combination of Greek, Persian, and Egyptian cultures. During this \n",
            "remarkable time period, people were encouraged to pursue a formal education and \n",
            "produce many different kinds of art. New forms of math, science, and design made a \n",
            "great impact on society. \n",
            " \n",
            "How does the example prove your thesis (Why is this example important? How does it support \n",
            "the main claim of your thesis statement?): \n",
            "  \n",
            "If this new way of life had not been as successful as it was, Alexander’s legacy would not \n",
            "be as memorable and groundbreaking. \n",
            " \n",
            "Concluding Sentence (Sum up the main argument of your paragraph in one sentence): \n",
            "  \n",
            "Because he conquered many countries and blended together many different cultures, \n",
            "Alexander the Great is widely recognized for his achievements and credited with being \n",
            "one of the greatest rulers in history. \n",
            " \n",
            "Putting it altogether: \n",
            " \n",
            "Alexander the Great was a successful ruler because his actions created long lasting \n",
            "effects on cultures that continue to the present day. One example of his legacy was the \n",
            "creation of a Hellenistic society. Hellenism was the combination of Greek, Persian, and \n",
            "Egyptian cultures. During this remarkable time period, people were encouraged to \n",
            "pursue a formal education and produce many different kinds of art. New forms of math, \n",
            "science, and design made a great impact on society. If this new way of life had not been \n",
            "as successful as it was, Alexander’s legacy would not be as memorable and \n",
            "groundbreaking. Because he conquered many countries and blended together many \n",
            "different cultures, Alexander the Great is widely recognized for his achievements and \n",
            "credited with being one of the greatest rulers in history. \n",
            " \n",
            " \n",
            "\n",
            "Examples #3‐4 \n",
            " \n",
            "Magellan’s circumnavigation [of the globe] forever altered the Western world’s ideas about \n",
            "cosmology – the study of the universe and our place in it – as well as geography. It \n",
            "demonstrated, among other things, that the earth was round, that the Americas were not part \n",
            "of India but were actually a separate continent, and that oceans covered most of the earth’s \n",
            "surface. The voyage conclusively demonstrated that the earth is, after all, one world. But it also \n",
            "demonstrated that it was a world of unceasing conflict, both natural and human. The cost of \n",
            "these discoveries in terms of loss of life and suffering was greater than anyone could have \n",
            "anticipated at the start of the expedition. [The voyagers] had survived an expedition to the ends \n",
            "of the earth, but more than that, they had endured a voyage into the darkest recesses of the \n",
            "human soul.  (Lawrence Bergreen, Over the Edge of the World) \n",
            " \n",
            "During the Civil War era many factions sought to change America. Remarkable speakers spread \n",
            "their ideas through oratory, thrilling their audiences through powerful speeches that appealed \n",
            "to both emotion and logic. Frederick Douglass, a black American, fought for black civil rights \n",
            "through compelling speeches like “What to the slave is the Fourth of July?” which depicted the \n",
            "terrors of slavery in graphic detail. Abraham Lincoln, on the other hand, spoke peacefully and \n",
            "optimistically during his Second Inaugural Address to demonstrate his desire for peace and \n",
            "reconciliation with the Confederate states. Both speakers captivated their audiences through \n",
            "persuasive diction, tone, and argumentative methods in an effort to win them over and gain \n",
            "their support. \n",
            " \n",
            "Conflicts within the middling orders were more pronounced than peaceful cooperation. Tariffs \n",
            "on imports were a boon to domestic manufacturers but a burden on merchants. Distribution of \n",
            "largesse from the central government, whether paintings donated to provincial museums or \n",
            "subsidies provided to struggling industries let to disputes about favoritism among cities and \n",
            "regions. The issue of state support for sectarian schools became a contentious issue between \n",
            "devout and secular citizens. The location of the railroad network, which speedily spread \n",
            "through most of Europe in the 1840s and 1850s, became a matter of virtual economic life and \n",
            "death across the map. And, … limitations on the right to vote on the basis of income were sore \n",
            "points between bourgeois safely at home in the political elite and bourgeois aspiring to join \n",
            "them Some of these contests were trivial: in the late nineteenth century, Munich and Berlin \n",
            "engaged in a rivalry, carried on mainly in the press, over which was the cultural capital of \n",
            "Germany. But most of the time, the stakes were higher than this. Economic self‐interest, \n",
            "religious agendas, intellectual convictions, social competition, [and] the proper place of women \n",
            "became political issues where bourgeois battled bourgeois. (Peter Gay, Schnitzler’s Century) \n",
            " \n",
            " \n",
            " \n",
            " \n",
            "\n",
            "Slave spirituals often had hidden double meanings.  \n",
            " \n",
            "On one level, spirituals referenced heaven, Jesus, and the soul; but on \n",
            "another level, the songs spoke about slave resistance.  \n",
            " \n",
            "For example, according to Frederick Douglass, the song “O Canaan, \n",
            "Sweet Canaan” spoke of slaves’ longing for heaven, but it also \n",
            "expressed their desire to escape to the North.  \n",
            " \n",
            "Careful listeners heard this second meaning in the following lyrics: “I \n",
            "don’t expect to stay / Much longer here. / Run to Jesus, shun the \n",
            "danger. / I don’t expect to stay.”  \n",
            " \n",
            "When slaves sang this song, they could have been speaking of their \n",
            "departure from this life and their arrival in heaven; however, they also \n",
            "could have been describing their plans to leave the South and run, not \n",
            "to Jesus, but to the North.  \n",
            " \n",
            "Slaves even used songs like “Steal Away to Jesus (at midnight)” to \n",
            "announce to other slaves the time and place of secret, forbidden \n",
            "meetings.  \n",
            " \n",
            "What whites heard as merely spiritual songs, slaves discerned as \n",
            "detailed messages. The hidden meanings in spirituals allowed slaves to \n",
            "sing what they could not say. \n",
            " \n",
            " \n",
            " \n",
            "\n",
            "Felix Driver, “Henry Morton Stanley and His Critics” \n",
            " \n",
            "The history of exploration has until recently been dominated by two \n",
            "sorts of historical writing: biographies, which of necessity focus on the \n",
            "life and personality of individual explorers, and somewhat Whiggish \n",
            "general histories, which have tended to celebrate the triumph of \n",
            "modern geographical science over the mysteries of the earth. Neither \n",
            "of these approaches is particularly well equipped to meet the \n",
            "requirements of a more contextual perspective, concerned with the \n",
            "wider contemporary significance of the ideas and practices of \n",
            "exploration. In recent years, historians have paid much more attention \n",
            "to the institutional, intellectual, and social contexts in which projects of \n",
            "exploration were sustained, emphasizing in particular the relationship \n",
            "between exploration and empire. Whether explorers like Stanley are \n",
            "considered to be “progenitors” or merely “precursors’ of the new forms \n",
            "of imperialism developing during the late nineteenth century, their \n",
            "labors at the colonial frontier must be seen ii the wider context of \n",
            "changing relationships between Europe and the non‐European world. It \n",
            "has been suggested that the attitudes and assumptions of explorers \n",
            "constitute a kind of “unofficial symbolic imperialism,” helping to define \n",
            "the cultural terms on which unequal political relations between \n",
            "colonizer and colonized could subsequently be established. The fact \n",
            "that British explorers of Africa… received official sanction and support \n",
            "is, according to this view, but one aspect of their contribution to \n",
            "imperial history; another is their role in the popularization of myths and \n",
            "fantasies about the non‐European world. For geographical exploration \n",
            "did not merely overcome distance; it helped created “imaginative \n",
            "geographies.” Joseph Conrad once described the most famous African \n",
            "explorers as “conquerors of truth,” not because they exposed the inner \n",
            "secretes of distant regions (as they often claimed), but rather because \n",
            "they established particular ways of reading unknown landscapes.  \n",
            "\n"
          ]
        }
      ]
    }
  ]
}